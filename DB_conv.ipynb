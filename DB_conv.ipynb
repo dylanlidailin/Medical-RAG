{
 "cells": [
  {
   "cell_type": "code",
   "execution_count": null,
   "id": "226dfedc",
   "metadata": {},
   "outputs": [],
   "source": [
    "import pandas as pd\n",
    "import requests\n",
    "from dotenv import load_dotenv\n",
    "import os\n",
    "import re\n",
    "import faiss\n",
    "import openai"
   ]
  },
  {
   "cell_type": "code",
   "execution_count": 2,
   "id": "81788914",
   "metadata": {},
   "outputs": [],
   "source": [
    "def get_service_ticket(api_key, service=\"http://umlsks.nlm.nih.gov\"):\n",
    "    tgt_resp = requests.post(\n",
    "        \"https://utslogin.nlm.nih.gov/cas/v1/api-key\",\n",
    "        data={\"apikey\": api_key},\n",
    "        headers={\"Content-Type\": \"application/x-www-form-urlencoded\"}\n",
    "    )\n",
    "    tgt_match = re.search(r'action=\"(.+?)\"', tgt_resp.text)\n",
    "    if not tgt_match:\n",
    "        raise ValueError(\"TGT 获取失败\")\n",
    "    tgt_url = tgt_match.group(1)\n",
    "    st_resp = requests.post(tgt_url, data={\"service\": service})\n",
    "    return st_resp.text"
   ]
  },
  {
   "cell_type": "code",
   "execution_count": 3,
   "id": "e634bf19",
   "metadata": {},
   "outputs": [
    {
     "name": "stdout",
     "output_type": "stream",
     "text": [
      "{'pageSize': 25, 'pageNumber': 1, 'pageCount': 1, 'result': {'ui': 'C0004057', 'name': 'aspirin', 'dateAdded': '09-30-1990', 'majorRevisionDate': '12-03-2024', 'classType': 'Concept', 'suppressible': False, 'status': 'R', 'semanticTypes': [{'name': 'Organic Chemical', 'uri': 'https://uts-ws.nlm.nih.gov/rest/semantic-network/2025AA/TUI/T109'}, {'name': 'Pharmacologic Substance', 'uri': 'https://uts-ws.nlm.nih.gov/rest/semantic-network/2025AA/TUI/T121'}], 'atoms': 'https://uts-ws.nlm.nih.gov/rest/content/2025AA/CUI/C0004057/atoms', 'definitions': 'https://uts-ws.nlm.nih.gov/rest/content/2025AA/CUI/C0004057/definitions', 'relations': 'https://uts-ws.nlm.nih.gov/rest/content/2025AA/CUI/C0004057/relations', 'defaultPreferredAtom': 'https://uts-ws.nlm.nih.gov/rest/content/2025AA/CUI/C0004057/atoms/preferred', 'atomCount': 168, 'cvMemberCount': 0, 'attributeCount': 0, 'relationCount': 300}}\n"
     ]
    }
   ],
   "source": [
    "from dotenv import load_dotenv\n",
    "import os\n",
    "load_dotenv()\n",
    "API_KEY = os.getenv(\"NX_API_KEY\")\n",
    "ticket = get_service_ticket(API_KEY)\n",
    "url = f\"https://uts-ws.nlm.nih.gov/rest/content/current/CUI/C0004057?ticket={ticket}\"\n",
    "response = requests.get(url)\n",
    "print(response.json())"
   ]
  },
  {
   "cell_type": "code",
   "execution_count": 4,
   "id": "b053e22c",
   "metadata": {},
   "outputs": [
    {
     "name": "stdout",
     "output_type": "stream",
     "text": [
      "TGT: https://utslogin.nlm.nih.gov/cas/v1/api-key/TGT-7593-44caln4045mdbh3txe-cas\n"
     ]
    }
   ],
   "source": [
    "tgt_url = \"https://utslogin.nlm.nih.gov/cas/v1/api-key\"\n",
    "\n",
    "tgt_response = requests.post(\n",
    "    tgt_url,\n",
    "    data={\"apikey\": API_KEY},\n",
    "    headers={\"Content-Type\": \"application/x-www-form-urlencoded\"}\n",
    ")\n",
    "\n",
    "# 从返回的 HTML 中提取 TGT url（form action）\n",
    "import re\n",
    "match = re.search(r'action=\"(.+?)\"', tgt_response.text)\n",
    "TGT = match.group(1) if match else None\n",
    "print(\"TGT:\", TGT)\n"
   ]
  },
  {
   "cell_type": "code",
   "execution_count": 5,
   "id": "def34127",
   "metadata": {},
   "outputs": [
    {
     "name": "stdout",
     "output_type": "stream",
     "text": [
      "Service Ticket: ST-32658-qlrn40cgmdbh3vtg-cas\n"
     ]
    }
   ],
   "source": [
    "import requests\n",
    "import re\n",
    "\n",
    "# 获取 TGT\n",
    "api_key = API_KEY\n",
    "tgt_url = \"https://utslogin.nlm.nih.gov/cas/v1/api-key\"\n",
    "tgt_response = requests.post(\n",
    "    tgt_url,\n",
    "    data={\"apikey\": api_key},\n",
    "    headers={\"Content-Type\": \"application/x-www-form-urlencoded\"}\n",
    ")\n",
    "tgt_match = re.search(r'action=\"(.+?)\"', tgt_response.text)\n",
    "tgt_location = tgt_match.group(1)\n",
    "\n",
    "# ✅ 获取 Service Ticket (ST)\n",
    "service = \"http://umlsks.nlm.nih.gov\"\n",
    "st_response = requests.post(tgt_location, data={\"service\": service})\n",
    "service_ticket = st_response.text.strip()\n",
    "\n",
    "print(\"Service Ticket:\", service_ticket)\n"
   ]
  },
  {
   "cell_type": "code",
   "execution_count": 6,
   "id": "b98dd7b6",
   "metadata": {},
   "outputs": [
    {
     "name": "stdout",
     "output_type": "stream",
     "text": [
      "     RXCUI  LAT   TS  LUI  STT  SUI ISPREF     RXAUI      SAUI     SCUI SDUI  \\\n",
      "0  2641622  ENG  NaN  NaN  NaN  NaN    NaN  12985883  12985883  2641622  NaN   \n",
      "1  2641622  ENG  NaN  NaN  NaN  NaN    NaN  12985885  12985885  2641622  NaN   \n",
      "2  2708995  ENG  NaN  NaN  NaN  NaN    NaN  12984979  12984979  2708995  NaN   \n",
      "3  2708995  ENG  NaN  NaN  NaN  NaN    NaN  12984980  12984980  2708995  NaN   \n",
      "4  2708995  ENG  NaN  NaN  NaN  NaN    NaN  12985880  12985880  2708995  NaN   \n",
      "\n",
      "      SAB TTY        CODE                                                STR  \\\n",
      "0  MTHSPL  SU  A5PTS27URJ  INFLUENZA A VIRUS A/VICTORIA/4897/2022 IVR-238...   \n",
      "1  MTHSPL  SU  9HA5C4XL36  INFLUENZA A VIRUS A/VICTORIA/4897/2022 IVR-238...   \n",
      "2  MTHSPL  SU  L38QVJ42SY  INFLUENZA A VIRUS A/Croatia/10136RV/2023 X-425...   \n",
      "3  MTHSPL  SU  R3KQM5Q4QF  INFLUENZA A VIRUS A/Croatia/10136RV/2023 X-425...   \n",
      "4  MTHSPL  SU  98PQP6K6TA  INFLUENZA A VIRUS A/Croatia/10136RV/2023 X-425...   \n",
      "\n",
      "   SRL SUPPRESS   CVF EXTRA  \n",
      "0  NaN        N  4096   NaN  \n",
      "1  NaN        N  4096   NaN  \n",
      "2  NaN        N  4096   NaN  \n",
      "3  NaN        N  4096   NaN  \n",
      "4  NaN        N  4096   NaN  \n",
      "✅ 步骤一完成：已生成 rxnorm_knowledge_base.csv\n",
      "✅ 步骤二完成：最终知识库已生成 rxnorm_enriched_chunks.csv\n"
     ]
    }
   ],
   "source": [
    "import pandas as pd\n",
    "import requests\n",
    "import re\n",
    "import time\n",
    "\n",
    "### Step 1: 定义字段列名（官方定义）\n",
    "\n",
    "conso_cols = [\n",
    "    \"RXCUI\", \"LAT\", \"TS\", \"LUI\", \"STT\", \"SUI\", \"ISPREF\", \"RXAUI\", \"SAUI\", \"SCUI\", \"SDUI\",\n",
    "    \"SAB\", \"TTY\", \"CODE\", \"STR\", \"SRL\", \"SUPPRESS\", \"CVF\", \"EXTRA\"\n",
    "]\n",
    "sat_cols = [\n",
    "    \"RXCUI\", \"LUI\", \"SUI\", \"RXAUI\", \"STYPE\", \"CODE\", \"ATUI\", \"SATUI\",\n",
    "    \"ATN\", \"SAB\", \"ATV\", \"SUPPRESS\", \"CVF\", \"EXTRA\"\n",
    "]\n",
    "\n",
    "### Step 2: 加载 RRF 文件\n",
    "\n",
    "conso = pd.read_csv(\"/Users/dylanli/Downloads/RxNorm_weekly_prescribe_07162025/rrf/RXNCONSO.RRF\", sep=\"|\", header=None, names=conso_cols, usecols=range(19), dtype=str, engine=\"python\")\n",
    "sat = pd.read_csv(\"/Users/dylanli/Downloads/RxNorm_weekly_prescribe_07162025/rrf/RXNSAT.RRF\", sep=\"|\", header=None, names=sat_cols, usecols=range(14), dtype=str, engine=\"python\")\n",
    "\n",
    "### Step 3: 筛选英文 & 首选名称的概念\n",
    "\n",
    "conso = conso[(conso[\"LAT\"] == \"ENG\")]\n",
    "\n",
    "print(conso.head())\n",
    "\n",
    "conso = conso[[\"RXCUI\", \"STR\", \"TTY\", \"CODE\", \"SAB\"]].drop_duplicates()\n",
    "\n",
    "### Step 4: 筛选说明性属性（ATN 包含 description/display）\n",
    "\n",
    "sat_filtered = sat[sat[\"ATN\"].str.lower().str.contains(\"description|display|text\", na=False)]\n",
    "sat_filtered = sat_filtered[[\"RXCUI\", \"ATV\"]].drop_duplicates()\n",
    "\n",
    "### Step 5: 合并基础知识库\n",
    "\n",
    "kb = pd.merge(conso, sat_filtered, on=\"RXCUI\", how=\"left\")\n",
    "kb.to_csv(\"Database/rxnorm_knowledge_base.csv\", index=False)\n",
    "\n",
    "print(\"✅ 步骤一完成：已生成 rxnorm_knowledge_base.csv\")\n",
    "\n",
    "### Step 6: 调用 RxNav API 为每个 RXCUI 补全属性（description, synonym 等）\n",
    "\n",
    "def fetch_rxcui_properties(rxcui):\n",
    "    url = f\"https://rxnav.nlm.nih.gov/REST/rxcui/{rxcui}/allProperties.json?prop=all\"\n",
    "    try:\n",
    "        resp = requests.get(url, timeout=10)\n",
    "        if resp.status_code != 200:\n",
    "            return \"\"\n",
    "        data = resp.json()\n",
    "        chunks = []\n",
    "        for group in data.get(\"propConceptGroup\", {}).get(\"propConcept\", []):\n",
    "            name = group.get(\"propName\", \"\")\n",
    "            value = group.get(\"propValue\", \"\")\n",
    "            if name and value and name.lower() in [\"synonym\", \"display name\", \"description\", \"consumer friendly text\", \"va class\"]:\n",
    "                chunks.append(f\"{name}: {value}\")\n",
    "        return \" | \".join(chunks)\n",
    "    except:\n",
    "        return \"\"\n",
    "\n",
    "# 去重后逐个获取补充信息\n",
    "kb[\"Supplemental_Info\"] = kb[\"RXCUI\"].dropna().map(fetch_rxcui_properties)\n",
    "time.sleep(0.2)\n",
    "\n",
    "### Step 7: 构建最终文本 chunk 用于 embedding\n",
    "\n",
    "kb[\"Text_Chunk\"] = kb.apply(\n",
    "    lambda row: f\"{row['STR']} ({row['TTY']}) - {row['ATV'] if pd.notna(row['ATV']) else ''}. {row['Supplemental_Info'] if pd.notna(row['Supplemental_Info']) else ''}\",\n",
    "    axis=1\n",
    ")\n",
    "\n",
    "### Step 8: 导出最终 enriched 文件\n",
    "\n",
    "kb.to_csv(\"rxnorm_enriched_chunks.csv\", index=False)\n",
    "print(\"✅ 步骤二完成：最终知识库已生成 rxnorm_enriched_chunks.csv\")\n"
   ]
  },
  {
   "cell_type": "code",
   "execution_count": 15,
   "id": "6410a6f1",
   "metadata": {},
   "outputs": [
    {
     "ename": "RateLimitError",
     "evalue": "Error code: 429 - {'error': {'message': 'You exceeded your current quota, please check your plan and billing details. For more information on this error, read the docs: https://platform.openai.com/docs/guides/error-codes/api-errors.', 'type': 'insufficient_quota', 'param': None, 'code': 'insufficient_quota'}}",
     "output_type": "error",
     "traceback": [
      "\u001b[0;31m---------------------------------------------------------------------------\u001b[0m",
      "\u001b[0;31mRateLimitError\u001b[0m                            Traceback (most recent call last)",
      "Cell \u001b[0;32mIn[15], line 26\u001b[0m\n\u001b[1;32m     24\u001b[0m embeddings \u001b[38;5;241m=\u001b[39m []\n\u001b[1;32m     25\u001b[0m \u001b[38;5;28;01mfor\u001b[39;00m i, chunk \u001b[38;5;129;01min\u001b[39;00m \u001b[38;5;28menumerate\u001b[39m(chunks):\n\u001b[0;32m---> 26\u001b[0m     emb \u001b[38;5;241m=\u001b[39m \u001b[43mget_embedding\u001b[49m\u001b[43m(\u001b[49m\u001b[43mchunk\u001b[49m\u001b[43m)\u001b[49m\n\u001b[1;32m     27\u001b[0m     embeddings\u001b[38;5;241m.\u001b[39mappend(emb)\n\u001b[1;32m     28\u001b[0m     time\u001b[38;5;241m.\u001b[39msleep(\u001b[38;5;241m0.3\u001b[39m)  \u001b[38;5;66;03m# 避免速率限制\u001b[39;00m\n",
      "Cell \u001b[0;32mIn[15], line 21\u001b[0m, in \u001b[0;36mget_embedding\u001b[0;34m(text, model)\u001b[0m\n\u001b[1;32m     20\u001b[0m \u001b[38;5;28;01mdef\u001b[39;00m\u001b[38;5;250m \u001b[39m\u001b[38;5;21mget_embedding\u001b[39m(text, model\u001b[38;5;241m=\u001b[39m\u001b[38;5;124m\"\u001b[39m\u001b[38;5;124mtext-embedding-ada-002\u001b[39m\u001b[38;5;124m\"\u001b[39m):\n\u001b[0;32m---> 21\u001b[0m     response \u001b[38;5;241m=\u001b[39m \u001b[43mclient\u001b[49m\u001b[38;5;241;43m.\u001b[39;49m\u001b[43membeddings\u001b[49m\u001b[38;5;241;43m.\u001b[39;49m\u001b[43mcreate\u001b[49m\u001b[43m(\u001b[49m\u001b[38;5;28;43minput\u001b[39;49m\u001b[38;5;241;43m=\u001b[39;49m\u001b[43m[\u001b[49m\u001b[43mtext\u001b[49m\u001b[43m]\u001b[49m\u001b[43m,\u001b[49m\u001b[43m \u001b[49m\u001b[43mmodel\u001b[49m\u001b[38;5;241;43m=\u001b[39;49m\u001b[43mmodel\u001b[49m\u001b[43m)\u001b[49m\n\u001b[1;32m     22\u001b[0m     \u001b[38;5;28;01mreturn\u001b[39;00m response\u001b[38;5;241m.\u001b[39mdata[\u001b[38;5;241m0\u001b[39m]\u001b[38;5;241m.\u001b[39membedding\n",
      "File \u001b[0;32m/Library/Frameworks/Python.framework/Versions/3.12/lib/python3.12/site-packages/openai/resources/embeddings.py:132\u001b[0m, in \u001b[0;36mEmbeddings.create\u001b[0;34m(self, input, model, dimensions, encoding_format, user, extra_headers, extra_query, extra_body, timeout)\u001b[0m\n\u001b[1;32m    126\u001b[0m             embedding\u001b[38;5;241m.\u001b[39membedding \u001b[38;5;241m=\u001b[39m np\u001b[38;5;241m.\u001b[39mfrombuffer(  \u001b[38;5;66;03m# type: ignore[no-untyped-call]\u001b[39;00m\n\u001b[1;32m    127\u001b[0m                 base64\u001b[38;5;241m.\u001b[39mb64decode(data), dtype\u001b[38;5;241m=\u001b[39m\u001b[38;5;124m\"\u001b[39m\u001b[38;5;124mfloat32\u001b[39m\u001b[38;5;124m\"\u001b[39m\n\u001b[1;32m    128\u001b[0m             )\u001b[38;5;241m.\u001b[39mtolist()\n\u001b[1;32m    130\u001b[0m     \u001b[38;5;28;01mreturn\u001b[39;00m obj\n\u001b[0;32m--> 132\u001b[0m \u001b[38;5;28;01mreturn\u001b[39;00m \u001b[38;5;28;43mself\u001b[39;49m\u001b[38;5;241;43m.\u001b[39;49m\u001b[43m_post\u001b[49m\u001b[43m(\u001b[49m\n\u001b[1;32m    133\u001b[0m \u001b[43m    \u001b[49m\u001b[38;5;124;43m\"\u001b[39;49m\u001b[38;5;124;43m/embeddings\u001b[39;49m\u001b[38;5;124;43m\"\u001b[39;49m\u001b[43m,\u001b[49m\n\u001b[1;32m    134\u001b[0m \u001b[43m    \u001b[49m\u001b[43mbody\u001b[49m\u001b[38;5;241;43m=\u001b[39;49m\u001b[43mmaybe_transform\u001b[49m\u001b[43m(\u001b[49m\u001b[43mparams\u001b[49m\u001b[43m,\u001b[49m\u001b[43m \u001b[49m\u001b[43membedding_create_params\u001b[49m\u001b[38;5;241;43m.\u001b[39;49m\u001b[43mEmbeddingCreateParams\u001b[49m\u001b[43m)\u001b[49m\u001b[43m,\u001b[49m\n\u001b[1;32m    135\u001b[0m \u001b[43m    \u001b[49m\u001b[43moptions\u001b[49m\u001b[38;5;241;43m=\u001b[39;49m\u001b[43mmake_request_options\u001b[49m\u001b[43m(\u001b[49m\n\u001b[1;32m    136\u001b[0m \u001b[43m        \u001b[49m\u001b[43mextra_headers\u001b[49m\u001b[38;5;241;43m=\u001b[39;49m\u001b[43mextra_headers\u001b[49m\u001b[43m,\u001b[49m\n\u001b[1;32m    137\u001b[0m \u001b[43m        \u001b[49m\u001b[43mextra_query\u001b[49m\u001b[38;5;241;43m=\u001b[39;49m\u001b[43mextra_query\u001b[49m\u001b[43m,\u001b[49m\n\u001b[1;32m    138\u001b[0m \u001b[43m        \u001b[49m\u001b[43mextra_body\u001b[49m\u001b[38;5;241;43m=\u001b[39;49m\u001b[43mextra_body\u001b[49m\u001b[43m,\u001b[49m\n\u001b[1;32m    139\u001b[0m \u001b[43m        \u001b[49m\u001b[43mtimeout\u001b[49m\u001b[38;5;241;43m=\u001b[39;49m\u001b[43mtimeout\u001b[49m\u001b[43m,\u001b[49m\n\u001b[1;32m    140\u001b[0m \u001b[43m        \u001b[49m\u001b[43mpost_parser\u001b[49m\u001b[38;5;241;43m=\u001b[39;49m\u001b[43mparser\u001b[49m\u001b[43m,\u001b[49m\n\u001b[1;32m    141\u001b[0m \u001b[43m    \u001b[49m\u001b[43m)\u001b[49m\u001b[43m,\u001b[49m\n\u001b[1;32m    142\u001b[0m \u001b[43m    \u001b[49m\u001b[43mcast_to\u001b[49m\u001b[38;5;241;43m=\u001b[39;49m\u001b[43mCreateEmbeddingResponse\u001b[49m\u001b[43m,\u001b[49m\n\u001b[1;32m    143\u001b[0m \u001b[43m\u001b[49m\u001b[43m)\u001b[49m\n",
      "File \u001b[0;32m/Library/Frameworks/Python.framework/Versions/3.12/lib/python3.12/site-packages/openai/_base_client.py:1256\u001b[0m, in \u001b[0;36mSyncAPIClient.post\u001b[0;34m(self, path, cast_to, body, options, files, stream, stream_cls)\u001b[0m\n\u001b[1;32m   1242\u001b[0m \u001b[38;5;28;01mdef\u001b[39;00m\u001b[38;5;250m \u001b[39m\u001b[38;5;21mpost\u001b[39m(\n\u001b[1;32m   1243\u001b[0m     \u001b[38;5;28mself\u001b[39m,\n\u001b[1;32m   1244\u001b[0m     path: \u001b[38;5;28mstr\u001b[39m,\n\u001b[0;32m   (...)\u001b[0m\n\u001b[1;32m   1251\u001b[0m     stream_cls: \u001b[38;5;28mtype\u001b[39m[_StreamT] \u001b[38;5;241m|\u001b[39m \u001b[38;5;28;01mNone\u001b[39;00m \u001b[38;5;241m=\u001b[39m \u001b[38;5;28;01mNone\u001b[39;00m,\n\u001b[1;32m   1252\u001b[0m ) \u001b[38;5;241m-\u001b[39m\u001b[38;5;241m>\u001b[39m ResponseT \u001b[38;5;241m|\u001b[39m _StreamT:\n\u001b[1;32m   1253\u001b[0m     opts \u001b[38;5;241m=\u001b[39m FinalRequestOptions\u001b[38;5;241m.\u001b[39mconstruct(\n\u001b[1;32m   1254\u001b[0m         method\u001b[38;5;241m=\u001b[39m\u001b[38;5;124m\"\u001b[39m\u001b[38;5;124mpost\u001b[39m\u001b[38;5;124m\"\u001b[39m, url\u001b[38;5;241m=\u001b[39mpath, json_data\u001b[38;5;241m=\u001b[39mbody, files\u001b[38;5;241m=\u001b[39mto_httpx_files(files), \u001b[38;5;241m*\u001b[39m\u001b[38;5;241m*\u001b[39moptions\n\u001b[1;32m   1255\u001b[0m     )\n\u001b[0;32m-> 1256\u001b[0m     \u001b[38;5;28;01mreturn\u001b[39;00m cast(ResponseT, \u001b[38;5;28;43mself\u001b[39;49m\u001b[38;5;241;43m.\u001b[39;49m\u001b[43mrequest\u001b[49m\u001b[43m(\u001b[49m\u001b[43mcast_to\u001b[49m\u001b[43m,\u001b[49m\u001b[43m \u001b[49m\u001b[43mopts\u001b[49m\u001b[43m,\u001b[49m\u001b[43m \u001b[49m\u001b[43mstream\u001b[49m\u001b[38;5;241;43m=\u001b[39;49m\u001b[43mstream\u001b[49m\u001b[43m,\u001b[49m\u001b[43m \u001b[49m\u001b[43mstream_cls\u001b[49m\u001b[38;5;241;43m=\u001b[39;49m\u001b[43mstream_cls\u001b[49m\u001b[43m)\u001b[49m)\n",
      "File \u001b[0;32m/Library/Frameworks/Python.framework/Versions/3.12/lib/python3.12/site-packages/openai/_base_client.py:1044\u001b[0m, in \u001b[0;36mSyncAPIClient.request\u001b[0;34m(self, cast_to, options, stream, stream_cls)\u001b[0m\n\u001b[1;32m   1041\u001b[0m             err\u001b[38;5;241m.\u001b[39mresponse\u001b[38;5;241m.\u001b[39mread()\n\u001b[1;32m   1043\u001b[0m         log\u001b[38;5;241m.\u001b[39mdebug(\u001b[38;5;124m\"\u001b[39m\u001b[38;5;124mRe-raising status error\u001b[39m\u001b[38;5;124m\"\u001b[39m)\n\u001b[0;32m-> 1044\u001b[0m         \u001b[38;5;28;01mraise\u001b[39;00m \u001b[38;5;28mself\u001b[39m\u001b[38;5;241m.\u001b[39m_make_status_error_from_response(err\u001b[38;5;241m.\u001b[39mresponse) \u001b[38;5;28;01mfrom\u001b[39;00m\u001b[38;5;250m \u001b[39m\u001b[38;5;28;01mNone\u001b[39;00m\n\u001b[1;32m   1046\u001b[0m     \u001b[38;5;28;01mbreak\u001b[39;00m\n\u001b[1;32m   1048\u001b[0m \u001b[38;5;28;01massert\u001b[39;00m response \u001b[38;5;129;01mis\u001b[39;00m \u001b[38;5;129;01mnot\u001b[39;00m \u001b[38;5;28;01mNone\u001b[39;00m, \u001b[38;5;124m\"\u001b[39m\u001b[38;5;124mcould not resolve response (should never happen)\u001b[39m\u001b[38;5;124m\"\u001b[39m\n",
      "\u001b[0;31mRateLimitError\u001b[0m: Error code: 429 - {'error': {'message': 'You exceeded your current quota, please check your plan and billing details. For more information on this error, read the docs: https://platform.openai.com/docs/guides/error-codes/api-errors.', 'type': 'insufficient_quota', 'param': None, 'code': 'insufficient_quota'}}"
     ]
    }
   ],
   "source": [
    "import numpy as np\n",
    "import faiss\n",
    "from openai import OpenAI\n",
    "from dotenv import load_dotenv\n",
    "\n",
    "# Step 1: 加载环境变量\n",
    "load_dotenv()\n",
    "api_key = os.getenv(\"OPENAI_API_KEY\")\n",
    "if not api_key:\n",
    "    raise ValueError(\"❌ 请设置环境变量 OPENAI_API_KEY\")\n",
    "\n",
    "client = OpenAI(api_key=api_key)\n",
    "\n",
    "# Step 2: 读取知识库\n",
    "df = pd.read_csv(\"rxnorm_enriched_chunks.csv\")\n",
    "df = df.dropna(subset=[\"Text_Chunk\"])  # 去掉空文本行\n",
    "chunks = df[\"Text_Chunk\"].tolist()\n",
    "\n",
    "# Step 3: 调用 OpenAI API 生成嵌入\n",
    "def get_embedding(text, model=\"text-embedding-ada-002\"):\n",
    "    response = client.embeddings.create(input=[text], model=model)\n",
    "    return response.data[0].embedding\n",
    "\n",
    "embeddings = []\n",
    "for i, chunk in enumerate(chunks):\n",
    "    emb = get_embedding(chunk)\n",
    "    embeddings.append(emb)\n",
    "    time.sleep(0.3)  # 避免速率限制\n",
    "    if (i+1) % 50 == 0:\n",
    "        print(f\"✅ 已处理 {i+1} 条\")\n",
    "\n",
    "# Step 4: 构建 FAISS 索引\n",
    "embedding_dim = len(embeddings[0])\n",
    "index = faiss.IndexFlatL2(embedding_dim)\n",
    "index.add(np.array(embeddings).astype(\"float32\"))\n",
    "\n",
    "# Step 5: 保存向量索引和 metadata\n",
    "faiss.write_index(index, \"rxnorm_faiss.index\")\n",
    "df[[\"RXCUI\", \"STR\", \"Text_Chunk\"]].to_csv(\"rxnorm_faiss_metadata.csv\", index=False)\n",
    "\n",
    "print(\"✅ 向量化完成，已保存 rxnorm_faiss.index 和 rxnorm_faiss_metadata.csv\")\n"
   ]
  },
  {
   "cell_type": "code",
   "execution_count": null,
   "id": "bff373cc",
   "metadata": {},
   "outputs": [
    {
     "name": "stdout",
     "output_type": "stream",
     "text": [
      "None\n"
     ]
    }
   ],
   "source": [
    "import openai\n",
    "ORG_ID = os.getenv(\"ORGANIZATION_ID\")\n",
    "openai.api_key = API_KEY\n",
    "openai.organization = ORG_ID\n",
    "print(openai.organization)"
   ]
  }
 ],
 "metadata": {
  "kernelspec": {
   "display_name": "Python 3",
   "language": "python",
   "name": "python3"
  },
  "language_info": {
   "codemirror_mode": {
    "name": "ipython",
    "version": 3
   },
   "file_extension": ".py",
   "mimetype": "text/x-python",
   "name": "python",
   "nbconvert_exporter": "python",
   "pygments_lexer": "ipython3",
   "version": "3.12.5"
  }
 },
 "nbformat": 4,
 "nbformat_minor": 5
}
