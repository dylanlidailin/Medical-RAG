{
 "cells": [
  {
   "cell_type": "code",
   "execution_count": 13,
   "id": "9fc25a79",
   "metadata": {},
   "outputs": [],
   "source": [
    "import pandas as pd\n",
    "import ast"
   ]
  },
  {
   "cell_type": "code",
   "execution_count": 14,
   "id": "b6b123bc",
   "metadata": {},
   "outputs": [],
   "source": [
    "df = pd.read_csv('Mapping/medication_problem_agent_mapping_summary.csv')"
   ]
  },
  {
   "cell_type": "code",
   "execution_count": 15,
   "id": "352fb16f",
   "metadata": {},
   "outputs": [
    {
     "name": "stdout",
     "output_type": "stream",
     "text": [
      "                      Treated_Problems_by_Medication  covering_rate\n",
      "0  {'Enalapril': [], 'Propranolol': ['Hypothyroid...       0.428571\n",
      "1  {'Alpha': [], 'Ramipril': [], 'Atenolol': ['An...       0.250000\n",
      "2  {'Olmesartan': ['Depression'], 'Diltiazem': ['...       0.900000\n",
      "3  {'Propranolol': ['Hypertension'], 'Arb': ['Hyp...       0.666667\n",
      "4  {'Ticagrelor': ['Migraine', 'Cholecystitis'], ...       0.764706\n",
      "\n",
      "Average covering rate: 64.58%\n"
     ]
    }
   ],
   "source": [
    "# Function to calculate covering rate per row\n",
    "def calculate_covering_rate(row):\n",
    "    try:\n",
    "        medication_dict = ast.literal_eval(row)\n",
    "        total = len(medication_dict)\n",
    "        with_diseases = sum(1 for v in medication_dict.values() if v)\n",
    "        return with_diseases / total if total > 0 else 0\n",
    "    except Exception as e:\n",
    "        return 0  # or handle error case more explicitly\n",
    "\n",
    "# Apply function to the relevant column\n",
    "df[\"covering_rate\"] = df[\"Treated_Problems_by_Medication\"].apply(calculate_covering_rate)\n",
    "\n",
    "# Calculate average covering rate across the dataset\n",
    "average_rate = sum(df[\"Treated_Problems_by_Medication\"].apply(lambda x: sum(1 for v in ast.literal_eval(x).values() if v))) / \\\n",
    "               sum(df[\"Treated_Problems_by_Medication\"].apply(lambda x: len(ast.literal_eval(x))))\n",
    "\n",
    "# Display results\n",
    "print(df[[\"Treated_Problems_by_Medication\", \"covering_rate\"]])\n",
    "print(f\"\\nAverage covering rate: {average_rate:.2%}\")\n"
   ]
  },
  {
   "cell_type": "code",
   "execution_count": 16,
   "id": "dcf67189",
   "metadata": {},
   "outputs": [],
   "source": [
    "df.to_csv('med_mapping_EDA.csv', index=False)"
   ]
  }
 ],
 "metadata": {
  "kernelspec": {
   "display_name": "Python 3",
   "language": "python",
   "name": "python3"
  },
  "language_info": {
   "codemirror_mode": {
    "name": "ipython",
    "version": 3
   },
   "file_extension": ".py",
   "mimetype": "text/x-python",
   "name": "python",
   "nbconvert_exporter": "python",
   "pygments_lexer": "ipython3",
   "version": "3.12.5"
  }
 },
 "nbformat": 4,
 "nbformat_minor": 5
}
